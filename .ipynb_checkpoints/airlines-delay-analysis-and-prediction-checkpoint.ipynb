{
 "cells": [
  {
   "cell_type": "markdown",
   "id": "d66ef868",
   "metadata": {},
   "source": [
    "# Airlines delay analysis and prediction"
   ]
  },
  {
   "cell_type": "markdown",
   "id": "d7d5d6e0",
   "metadata": {},
   "source": [
    "About Dataset\n",
    "Airlines dataset has 539383 instances and 8 different features. The task is to predict whether a given flight will be delayed, given the information of the scheduled departure.\n",
    "\n",
    "Different Feature Names\n",
    "\n",
    "1.Airline\n",
    "2.Flight\n",
    "3.Airport From\n",
    "4.Airport To\n",
    "5.DayOfWeek\n",
    "6.Time\n",
    "\n",
    "Alaska Airlines AS / ASA\n",
    "American Airlines AA/AAL\n",
    "Air Canada AC/ACA\n",
    "Aeromexico AM / AMX\n",
    "Continental Airlines CO / COA\n",
    "Delta Airlines DL / DAL\n",
    "FedEx FX / FDX\n",
    "Hawaiian Airlines HA / HAL\n",
    "Northwest Airlines NW / NWA\n",
    "Polar Air Cargo PO / PAC\n",
    "Southwest Airlines SW / SWA\n",
    "United Airlines UA / UAL\n",
    "United Parcel (UPS) 5X / UPS\n",
    "Virgin Atlantic VS / VIR\n",
    "VivaAerobús VB / VIV\n",
    "WestJet WS / WJ\n",
    "\n",
    "ATL - Hartsfield-Jackson Atlanta International Airport - Georgia\n",
    "AUS - Austin-Bergstrom International Airport - Texas\n",
    "BNA - Nashville International Airport - Tennessee\n",
    "BOS - Boston Logan International Airport - Massachusetts\n",
    "BWI - Baltimore-Washington International Thurgood Marshall Airport - Washington\n",
    "CLT - Charlotte Douglas International Airport - North Carolina\n",
    "DAL - Dallas Love Field - Texas\n",
    "DCA - Ronald Reagan Washington National Airport - Arlington, Virginia\n",
    "DEN - Denver International Airport - Colorado\n",
    "DFW - Dallas/Fort Worth International Airport - Texas\n",
    "DTW - Detroit Metropolitan Airport - Michigan\n",
    "EWR - Newark Liberty International Airport - New Jersey\n",
    "FLL - Fort Lauderdale–Hollywood International Airport - Florida\n",
    "HNL - Daniel K. Inouye International Airport - Honolulu, Hawaii\n",
    "HOU - William P. Hobby Airport - Houston, Texas\n",
    "IAD - Dulles International Airport - Virginia\n",
    "IAH - George Bush Intercontinental Airport - Houston, Texas\n",
    "JFK - John F. Kennedy International Airport - Queens, New York\n",
    "LAS - McCarran International Airport - Las Vegas, Nevada\n",
    "LAX - Los Angeles International Airport - California\n",
    "LGA - LaGuardia Airport - Queens, New York\n",
    "MCO - Orlando International Airport - Florida\n",
    "MDW - Chicago Midway International Airport - Illinois\n",
    "MIA - Miami International Airport - Florida\n",
    "MSP - Minneapolis–Saint Paul International Airport - Minnesota\n",
    "MSY - Louis Armstrong New Orleans International Airport - Louisiana\n",
    "OAK - Oakland International Airport - California\n",
    "ORD - O'Hare International Airport - Chicago, Illinois\n",
    "PDX - Portland International Airport - Oregon\n",
    "PHL - Philadelphia International Airport - Pennsylvania\n",
    "PHX - Phoenix Sky Harbor International Airport - Arizona\n",
    "RDU - Raleigh-Durham International Airport - North Carolina\n",
    "SAN - San Diego International Airport - California\n",
    "SEA - Seattle–Tacoma International Airport - Washington\n",
    "SFO - San Francisco International Airport - California\n",
    "SJC - Norman Y. Mineta San Jose International Airport - California\n",
    "SLC - Salt Lake City International Airport - Utah\n",
    "SMF - Sacramento International Airport - California\n",
    "STL - St. Louis Lambert International Airport - Missouri\n",
    "TPA - Tampa International Airport - Florida"
   ]
  },
  {
   "cell_type": "markdown",
   "id": "fa42f83c",
   "metadata": {},
   "source": [
    "## EDA (Exploratory Data Analysis)"
   ]
  },
  {
   "cell_type": "code",
   "execution_count": 1,
   "id": "3dbfdbf8",
   "metadata": {},
   "outputs": [],
   "source": [
    "import pandas as pd\n",
    "import seaborn as sns\n",
    "import matplotlib.pyplot as plt\n",
    "from sklearn.preprocessing import LabelEncoder \n",
    "from sklearn.model_selection import train_test_split\n",
    "from sklearn.preprocessing import MinMaxScaler\n",
    "import tensorflow as tf\n",
    "import numpy as np"
   ]
  },
  {
   "cell_type": "code",
   "execution_count": 2,
   "id": "32758d46",
   "metadata": {},
   "outputs": [],
   "source": [
    "df = pd.read_csv('Airlines.csv')"
   ]
  },
  {
   "cell_type": "code",
   "execution_count": 3,
   "id": "d2059c47",
   "metadata": {},
   "outputs": [
    {
     "data": {
      "text/html": [
       "<div>\n",
       "<style scoped>\n",
       "    .dataframe tbody tr th:only-of-type {\n",
       "        vertical-align: middle;\n",
       "    }\n",
       "\n",
       "    .dataframe tbody tr th {\n",
       "        vertical-align: top;\n",
       "    }\n",
       "\n",
       "    .dataframe thead th {\n",
       "        text-align: right;\n",
       "    }\n",
       "</style>\n",
       "<table border=\"1\" class=\"dataframe\">\n",
       "  <thead>\n",
       "    <tr style=\"text-align: right;\">\n",
       "      <th></th>\n",
       "      <th>id</th>\n",
       "      <th>Airline</th>\n",
       "      <th>Flight</th>\n",
       "      <th>AirportFrom</th>\n",
       "      <th>AirportTo</th>\n",
       "      <th>DayOfWeek</th>\n",
       "      <th>Time</th>\n",
       "      <th>Length</th>\n",
       "      <th>Delay</th>\n",
       "    </tr>\n",
       "  </thead>\n",
       "  <tbody>\n",
       "    <tr>\n",
       "      <th>0</th>\n",
       "      <td>1</td>\n",
       "      <td>CO</td>\n",
       "      <td>269</td>\n",
       "      <td>SFO</td>\n",
       "      <td>IAH</td>\n",
       "      <td>3</td>\n",
       "      <td>15</td>\n",
       "      <td>205</td>\n",
       "      <td>1</td>\n",
       "    </tr>\n",
       "    <tr>\n",
       "      <th>1</th>\n",
       "      <td>2</td>\n",
       "      <td>US</td>\n",
       "      <td>1558</td>\n",
       "      <td>PHX</td>\n",
       "      <td>CLT</td>\n",
       "      <td>3</td>\n",
       "      <td>15</td>\n",
       "      <td>222</td>\n",
       "      <td>1</td>\n",
       "    </tr>\n",
       "    <tr>\n",
       "      <th>2</th>\n",
       "      <td>3</td>\n",
       "      <td>AA</td>\n",
       "      <td>2400</td>\n",
       "      <td>LAX</td>\n",
       "      <td>DFW</td>\n",
       "      <td>3</td>\n",
       "      <td>20</td>\n",
       "      <td>165</td>\n",
       "      <td>1</td>\n",
       "    </tr>\n",
       "    <tr>\n",
       "      <th>3</th>\n",
       "      <td>4</td>\n",
       "      <td>AA</td>\n",
       "      <td>2466</td>\n",
       "      <td>SFO</td>\n",
       "      <td>DFW</td>\n",
       "      <td>3</td>\n",
       "      <td>20</td>\n",
       "      <td>195</td>\n",
       "      <td>1</td>\n",
       "    </tr>\n",
       "    <tr>\n",
       "      <th>4</th>\n",
       "      <td>5</td>\n",
       "      <td>AS</td>\n",
       "      <td>108</td>\n",
       "      <td>ANC</td>\n",
       "      <td>SEA</td>\n",
       "      <td>3</td>\n",
       "      <td>30</td>\n",
       "      <td>202</td>\n",
       "      <td>0</td>\n",
       "    </tr>\n",
       "    <tr>\n",
       "      <th>...</th>\n",
       "      <td>...</td>\n",
       "      <td>...</td>\n",
       "      <td>...</td>\n",
       "      <td>...</td>\n",
       "      <td>...</td>\n",
       "      <td>...</td>\n",
       "      <td>...</td>\n",
       "      <td>...</td>\n",
       "      <td>...</td>\n",
       "    </tr>\n",
       "    <tr>\n",
       "      <th>539378</th>\n",
       "      <td>539379</td>\n",
       "      <td>CO</td>\n",
       "      <td>178</td>\n",
       "      <td>OGG</td>\n",
       "      <td>SNA</td>\n",
       "      <td>5</td>\n",
       "      <td>1439</td>\n",
       "      <td>326</td>\n",
       "      <td>0</td>\n",
       "    </tr>\n",
       "    <tr>\n",
       "      <th>539379</th>\n",
       "      <td>539380</td>\n",
       "      <td>FL</td>\n",
       "      <td>398</td>\n",
       "      <td>SEA</td>\n",
       "      <td>ATL</td>\n",
       "      <td>5</td>\n",
       "      <td>1439</td>\n",
       "      <td>305</td>\n",
       "      <td>0</td>\n",
       "    </tr>\n",
       "    <tr>\n",
       "      <th>539380</th>\n",
       "      <td>539381</td>\n",
       "      <td>FL</td>\n",
       "      <td>609</td>\n",
       "      <td>SFO</td>\n",
       "      <td>MKE</td>\n",
       "      <td>5</td>\n",
       "      <td>1439</td>\n",
       "      <td>255</td>\n",
       "      <td>0</td>\n",
       "    </tr>\n",
       "    <tr>\n",
       "      <th>539381</th>\n",
       "      <td>539382</td>\n",
       "      <td>UA</td>\n",
       "      <td>78</td>\n",
       "      <td>HNL</td>\n",
       "      <td>SFO</td>\n",
       "      <td>5</td>\n",
       "      <td>1439</td>\n",
       "      <td>313</td>\n",
       "      <td>1</td>\n",
       "    </tr>\n",
       "    <tr>\n",
       "      <th>539382</th>\n",
       "      <td>539383</td>\n",
       "      <td>US</td>\n",
       "      <td>1442</td>\n",
       "      <td>LAX</td>\n",
       "      <td>PHL</td>\n",
       "      <td>5</td>\n",
       "      <td>1439</td>\n",
       "      <td>301</td>\n",
       "      <td>1</td>\n",
       "    </tr>\n",
       "  </tbody>\n",
       "</table>\n",
       "<p>539383 rows × 9 columns</p>\n",
       "</div>"
      ],
      "text/plain": [
       "            id Airline  Flight AirportFrom AirportTo  DayOfWeek  Time  Length  \\\n",
       "0            1      CO     269         SFO       IAH          3    15     205   \n",
       "1            2      US    1558         PHX       CLT          3    15     222   \n",
       "2            3      AA    2400         LAX       DFW          3    20     165   \n",
       "3            4      AA    2466         SFO       DFW          3    20     195   \n",
       "4            5      AS     108         ANC       SEA          3    30     202   \n",
       "...        ...     ...     ...         ...       ...        ...   ...     ...   \n",
       "539378  539379      CO     178         OGG       SNA          5  1439     326   \n",
       "539379  539380      FL     398         SEA       ATL          5  1439     305   \n",
       "539380  539381      FL     609         SFO       MKE          5  1439     255   \n",
       "539381  539382      UA      78         HNL       SFO          5  1439     313   \n",
       "539382  539383      US    1442         LAX       PHL          5  1439     301   \n",
       "\n",
       "        Delay  \n",
       "0           1  \n",
       "1           1  \n",
       "2           1  \n",
       "3           1  \n",
       "4           0  \n",
       "...       ...  \n",
       "539378      0  \n",
       "539379      0  \n",
       "539380      0  \n",
       "539381      1  \n",
       "539382      1  \n",
       "\n",
       "[539383 rows x 9 columns]"
      ]
     },
     "execution_count": 3,
     "metadata": {},
     "output_type": "execute_result"
    }
   ],
   "source": [
    "df"
   ]
  },
  {
   "cell_type": "code",
   "execution_count": 4,
   "id": "84752fa1",
   "metadata": {},
   "outputs": [
    {
     "name": "stdout",
     "output_type": "stream",
     "text": [
      "<class 'pandas.core.frame.DataFrame'>\n",
      "RangeIndex: 539383 entries, 0 to 539382\n",
      "Data columns (total 9 columns):\n",
      " #   Column       Non-Null Count   Dtype \n",
      "---  ------       --------------   ----- \n",
      " 0   id           539383 non-null  int64 \n",
      " 1   Airline      539383 non-null  object\n",
      " 2   Flight       539383 non-null  int64 \n",
      " 3   AirportFrom  539383 non-null  object\n",
      " 4   AirportTo    539383 non-null  object\n",
      " 5   DayOfWeek    539383 non-null  int64 \n",
      " 6   Time         539383 non-null  int64 \n",
      " 7   Length       539383 non-null  int64 \n",
      " 8   Delay        539383 non-null  int64 \n",
      "dtypes: int64(6), object(3)\n",
      "memory usage: 37.0+ MB\n"
     ]
    }
   ],
   "source": [
    "df.info()"
   ]
  },
  {
   "cell_type": "code",
   "execution_count": 5,
   "id": "7d32bdb6",
   "metadata": {},
   "outputs": [
    {
     "data": {
      "text/plain": [
       "id             0\n",
       "Airline        0\n",
       "Flight         0\n",
       "AirportFrom    0\n",
       "AirportTo      0\n",
       "DayOfWeek      0\n",
       "Time           0\n",
       "Length         0\n",
       "Delay          0\n",
       "dtype: int64"
      ]
     },
     "execution_count": 5,
     "metadata": {},
     "output_type": "execute_result"
    }
   ],
   "source": [
    "df.isnull().sum()"
   ]
  },
  {
   "cell_type": "code",
   "execution_count": 6,
   "id": "eab3b921",
   "metadata": {},
   "outputs": [
    {
     "data": {
      "text/html": [
       "<div>\n",
       "<style scoped>\n",
       "    .dataframe tbody tr th:only-of-type {\n",
       "        vertical-align: middle;\n",
       "    }\n",
       "\n",
       "    .dataframe tbody tr th {\n",
       "        vertical-align: top;\n",
       "    }\n",
       "\n",
       "    .dataframe thead th {\n",
       "        text-align: right;\n",
       "    }\n",
       "</style>\n",
       "<table border=\"1\" class=\"dataframe\">\n",
       "  <thead>\n",
       "    <tr style=\"text-align: right;\">\n",
       "      <th></th>\n",
       "      <th>id</th>\n",
       "      <th>Flight</th>\n",
       "      <th>DayOfWeek</th>\n",
       "      <th>Time</th>\n",
       "      <th>Length</th>\n",
       "      <th>Delay</th>\n",
       "    </tr>\n",
       "  </thead>\n",
       "  <tbody>\n",
       "    <tr>\n",
       "      <th>count</th>\n",
       "      <td>539383.00000</td>\n",
       "      <td>539383.000000</td>\n",
       "      <td>539383.000000</td>\n",
       "      <td>539383.000000</td>\n",
       "      <td>539383.000000</td>\n",
       "      <td>539383.000000</td>\n",
       "    </tr>\n",
       "    <tr>\n",
       "      <th>mean</th>\n",
       "      <td>269692.00000</td>\n",
       "      <td>2427.928630</td>\n",
       "      <td>3.929668</td>\n",
       "      <td>802.728963</td>\n",
       "      <td>132.202007</td>\n",
       "      <td>0.445442</td>\n",
       "    </tr>\n",
       "    <tr>\n",
       "      <th>std</th>\n",
       "      <td>155706.60446</td>\n",
       "      <td>2067.429837</td>\n",
       "      <td>1.914664</td>\n",
       "      <td>278.045911</td>\n",
       "      <td>70.117016</td>\n",
       "      <td>0.497015</td>\n",
       "    </tr>\n",
       "    <tr>\n",
       "      <th>min</th>\n",
       "      <td>1.00000</td>\n",
       "      <td>1.000000</td>\n",
       "      <td>1.000000</td>\n",
       "      <td>10.000000</td>\n",
       "      <td>0.000000</td>\n",
       "      <td>0.000000</td>\n",
       "    </tr>\n",
       "    <tr>\n",
       "      <th>25%</th>\n",
       "      <td>134846.50000</td>\n",
       "      <td>712.000000</td>\n",
       "      <td>2.000000</td>\n",
       "      <td>565.000000</td>\n",
       "      <td>81.000000</td>\n",
       "      <td>0.000000</td>\n",
       "    </tr>\n",
       "    <tr>\n",
       "      <th>50%</th>\n",
       "      <td>269692.00000</td>\n",
       "      <td>1809.000000</td>\n",
       "      <td>4.000000</td>\n",
       "      <td>795.000000</td>\n",
       "      <td>115.000000</td>\n",
       "      <td>0.000000</td>\n",
       "    </tr>\n",
       "    <tr>\n",
       "      <th>75%</th>\n",
       "      <td>404537.50000</td>\n",
       "      <td>3745.000000</td>\n",
       "      <td>5.000000</td>\n",
       "      <td>1035.000000</td>\n",
       "      <td>162.000000</td>\n",
       "      <td>1.000000</td>\n",
       "    </tr>\n",
       "    <tr>\n",
       "      <th>max</th>\n",
       "      <td>539383.00000</td>\n",
       "      <td>7814.000000</td>\n",
       "      <td>7.000000</td>\n",
       "      <td>1439.000000</td>\n",
       "      <td>655.000000</td>\n",
       "      <td>1.000000</td>\n",
       "    </tr>\n",
       "  </tbody>\n",
       "</table>\n",
       "</div>"
      ],
      "text/plain": [
       "                 id         Flight      DayOfWeek           Time  \\\n",
       "count  539383.00000  539383.000000  539383.000000  539383.000000   \n",
       "mean   269692.00000    2427.928630       3.929668     802.728963   \n",
       "std    155706.60446    2067.429837       1.914664     278.045911   \n",
       "min         1.00000       1.000000       1.000000      10.000000   \n",
       "25%    134846.50000     712.000000       2.000000     565.000000   \n",
       "50%    269692.00000    1809.000000       4.000000     795.000000   \n",
       "75%    404537.50000    3745.000000       5.000000    1035.000000   \n",
       "max    539383.00000    7814.000000       7.000000    1439.000000   \n",
       "\n",
       "              Length          Delay  \n",
       "count  539383.000000  539383.000000  \n",
       "mean      132.202007       0.445442  \n",
       "std        70.117016       0.497015  \n",
       "min         0.000000       0.000000  \n",
       "25%        81.000000       0.000000  \n",
       "50%       115.000000       0.000000  \n",
       "75%       162.000000       1.000000  \n",
       "max       655.000000       1.000000  "
      ]
     },
     "execution_count": 6,
     "metadata": {},
     "output_type": "execute_result"
    }
   ],
   "source": [
    "df.describe()"
   ]
  },
  {
   "cell_type": "markdown",
   "id": "7a9a781e",
   "metadata": {},
   "source": [
    "### 1. Checking the airlines with the most and least delay"
   ]
  },
  {
   "cell_type": "code",
   "execution_count": 7,
   "id": "897aa84b",
   "metadata": {
    "scrolled": true
   },
   "outputs": [
    {
     "data": {
      "text/html": [
       "<div>\n",
       "<style scoped>\n",
       "    .dataframe tbody tr th:only-of-type {\n",
       "        vertical-align: middle;\n",
       "    }\n",
       "\n",
       "    .dataframe tbody tr th {\n",
       "        vertical-align: top;\n",
       "    }\n",
       "\n",
       "    .dataframe thead th {\n",
       "        text-align: right;\n",
       "    }\n",
       "</style>\n",
       "<table border=\"1\" class=\"dataframe\">\n",
       "  <thead>\n",
       "    <tr style=\"text-align: right;\">\n",
       "      <th></th>\n",
       "      <th>index</th>\n",
       "      <th>Airline</th>\n",
       "      <th>Delay</th>\n",
       "    </tr>\n",
       "  </thead>\n",
       "  <tbody>\n",
       "    <tr>\n",
       "      <th>0</th>\n",
       "      <td>15</td>\n",
       "      <td>WN</td>\n",
       "      <td>94097</td>\n",
       "    </tr>\n",
       "    <tr>\n",
       "      <th>1</th>\n",
       "      <td>5</td>\n",
       "      <td>DL</td>\n",
       "      <td>60940</td>\n",
       "    </tr>\n",
       "    <tr>\n",
       "      <th>2</th>\n",
       "      <td>12</td>\n",
       "      <td>OO</td>\n",
       "      <td>50254</td>\n",
       "    </tr>\n",
       "    <tr>\n",
       "      <th>3</th>\n",
       "      <td>1</td>\n",
       "      <td>AA</td>\n",
       "      <td>45656</td>\n",
       "    </tr>\n",
       "    <tr>\n",
       "      <th>4</th>\n",
       "      <td>10</td>\n",
       "      <td>MQ</td>\n",
       "      <td>36605</td>\n",
       "    </tr>\n",
       "  </tbody>\n",
       "</table>\n",
       "</div>"
      ],
      "text/plain": [
       "   index Airline  Delay\n",
       "0     15      WN  94097\n",
       "1      5      DL  60940\n",
       "2     12      OO  50254\n",
       "3      1      AA  45656\n",
       "4     10      MQ  36605"
      ]
     },
     "execution_count": 7,
     "metadata": {},
     "output_type": "execute_result"
    }
   ],
   "source": [
    "df_airline_count_delay = df[['Airline', 'Delay']].groupby('Airline').agg('count').reset_index()\n",
    "df_airline_count_delay = df_airline_count_delay.sort_values(by = 'Delay', ascending = False)\n",
    "df_airline_count_delay = df_airline_count_delay.reset_index()\n",
    "df_airline_count_delay.head()"
   ]
  },
  {
   "cell_type": "code",
   "execution_count": 8,
   "id": "8cd5bd23",
   "metadata": {},
   "outputs": [
    {
     "data": {
      "image/png": "[encoded data removed]",
      "text/plain": [
       "<Figure size 1296x288 with 1 Axes>"
      ]
     },
     "metadata": {
      "needs_background": "light"
     },
     "output_type": "display_data"
    }
   ],
   "source": [
    "plt.figure(figsize = (18,4))\n",
    "sns.barplot(x= 'Airline',y = 'Delay', color = 'blue', \n",
    "            data = df_airline_count_delay)\n",
    "plt.show()"
   ]
  },
  {
   "cell_type": "markdown",
   "id": "9b3cc7ad",
   "metadata": {},
   "source": [
    "Northwest Airlines having the most delays and Hawaiian airlines with least delays."
   ]
  },
  {
   "cell_type": "markdown",
   "id": "cd1089d5",
   "metadata": {},
   "source": [
    "### 2. Checking which Airport the flight starts from with the most and least delay"
   ]
  },
  {
   "cell_type": "code",
   "execution_count": 9,
   "id": "17ffe9ce",
   "metadata": {},
   "outputs": [
    {
     "data": {
      "text/html": [
       "<div>\n",
       "<style scoped>\n",
       "    .dataframe tbody tr th:only-of-type {\n",
       "        vertical-align: middle;\n",
       "    }\n",
       "\n",
       "    .dataframe tbody tr th {\n",
       "        vertical-align: top;\n",
       "    }\n",
       "\n",
       "    .dataframe thead th {\n",
       "        text-align: right;\n",
       "    }\n",
       "</style>\n",
       "<table border=\"1\" class=\"dataframe\">\n",
       "  <thead>\n",
       "    <tr style=\"text-align: right;\">\n",
       "      <th></th>\n",
       "      <th>index</th>\n",
       "      <th>AirportFrom</th>\n",
       "      <th>Delay</th>\n",
       "    </tr>\n",
       "  </thead>\n",
       "  <tbody>\n",
       "    <tr>\n",
       "      <th>0</th>\n",
       "      <td>16</td>\n",
       "      <td>ATL</td>\n",
       "      <td>34449</td>\n",
       "    </tr>\n",
       "    <tr>\n",
       "      <th>1</th>\n",
       "      <td>208</td>\n",
       "      <td>ORD</td>\n",
       "      <td>24822</td>\n",
       "    </tr>\n",
       "    <tr>\n",
       "      <th>2</th>\n",
       "      <td>80</td>\n",
       "      <td>DFW</td>\n",
       "      <td>22154</td>\n",
       "    </tr>\n",
       "    <tr>\n",
       "      <th>3</th>\n",
       "      <td>79</td>\n",
       "      <td>DEN</td>\n",
       "      <td>19843</td>\n",
       "    </tr>\n",
       "    <tr>\n",
       "      <th>4</th>\n",
       "      <td>154</td>\n",
       "      <td>LAX</td>\n",
       "      <td>16657</td>\n",
       "    </tr>\n",
       "  </tbody>\n",
       "</table>\n",
       "</div>"
      ],
      "text/plain": [
       "   index AirportFrom  Delay\n",
       "0     16         ATL  34449\n",
       "1    208         ORD  24822\n",
       "2     80         DFW  22154\n",
       "3     79         DEN  19843\n",
       "4    154         LAX  16657"
      ]
     },
     "execution_count": 9,
     "metadata": {},
     "output_type": "execute_result"
    }
   ],
   "source": [
    "df_airportfrom_count_delay = df[['AirportFrom', 'Delay']].groupby('AirportFrom').agg('count').reset_index()\n",
    "df_airportfrom_count_delay = df_airportfrom_count_delay.sort_values(by = 'Delay', ascending = False)\n",
    "df_airportfrom_count_delay = df_airportfrom_count_delay.reset_index()\n",
    "df_airportfrom_count_delay.head()"
   ]
  },
  {
   "cell_type": "code",
   "execution_count": 10,
   "id": "ed18a524",
   "metadata": {},
   "outputs": [
    {
     "data": {
      "image/png": "[encoded data removed]",
      "text/plain": [
       "<Figure size 1440x792 with 1 Axes>"
      ]
     },
     "metadata": {
      "needs_background": "light"
     },
     "output_type": "display_data"
    }
   ],
   "source": [
    "plt.figure(figsize = (20,11))\n",
    "sns.barplot(x= 'AirportFrom',y = 'Delay', color = 'blue', \n",
    "            data = df_airportfrom_count_delay[:25])\n",
    "plt.show()"
   ]
  },
  {
   "cell_type": "code",
   "execution_count": 11,
   "id": "f8ff18ce",
   "metadata": {},
   "outputs": [
    {
     "data": {
      "image/png": "[encoded data removed]",
      "text/plain": [
       "<Figure size 1440x792 with 1 Axes>"
      ]
     },
     "metadata": {
      "needs_background": "light"
     },
     "output_type": "display_data"
    }
   ],
   "source": [
    "plt.figure(figsize = (20,11))\n",
    "sns.barplot(x= 'AirportFrom',y = 'Delay', color = 'blue', \n",
    "            data = df_airportfrom_count_delay[-25:])\n",
    "plt.show()"
   ]
  },
  {
   "cell_type": "markdown",
   "id": "9fc86013",
   "metadata": {},
   "source": [
    "Starts from Hartsfield-Jackson Atlanta International Airport (ATL) having the most delays and Aberdeen Regional Airport (ABR) with least delays."
   ]
  },
  {
   "cell_type": "markdown",
   "id": "ba1b107c",
   "metadata": {},
   "source": [
    "### 3. Checking which Airport the flight destination with the most and least delay"
   ]
  },
  {
   "cell_type": "code",
   "execution_count": 12,
   "id": "6ad3041e",
   "metadata": {},
   "outputs": [
    {
     "data": {
      "text/html": [
       "<div>\n",
       "<style scoped>\n",
       "    .dataframe tbody tr th:only-of-type {\n",
       "        vertical-align: middle;\n",
       "    }\n",
       "\n",
       "    .dataframe tbody tr th {\n",
       "        vertical-align: top;\n",
       "    }\n",
       "\n",
       "    .dataframe thead th {\n",
       "        text-align: right;\n",
       "    }\n",
       "</style>\n",
       "<table border=\"1\" class=\"dataframe\">\n",
       "  <thead>\n",
       "    <tr style=\"text-align: right;\">\n",
       "      <th></th>\n",
       "      <th>index</th>\n",
       "      <th>AirportTo</th>\n",
       "      <th>Delay</th>\n",
       "    </tr>\n",
       "  </thead>\n",
       "  <tbody>\n",
       "    <tr>\n",
       "      <th>0</th>\n",
       "      <td>16</td>\n",
       "      <td>ATL</td>\n",
       "      <td>34440</td>\n",
       "    </tr>\n",
       "    <tr>\n",
       "      <th>1</th>\n",
       "      <td>208</td>\n",
       "      <td>ORD</td>\n",
       "      <td>24871</td>\n",
       "    </tr>\n",
       "    <tr>\n",
       "      <th>2</th>\n",
       "      <td>80</td>\n",
       "      <td>DFW</td>\n",
       "      <td>22153</td>\n",
       "    </tr>\n",
       "    <tr>\n",
       "      <th>3</th>\n",
       "      <td>79</td>\n",
       "      <td>DEN</td>\n",
       "      <td>19848</td>\n",
       "    </tr>\n",
       "    <tr>\n",
       "      <th>4</th>\n",
       "      <td>154</td>\n",
       "      <td>LAX</td>\n",
       "      <td>16656</td>\n",
       "    </tr>\n",
       "  </tbody>\n",
       "</table>\n",
       "</div>"
      ],
      "text/plain": [
       "   index AirportTo  Delay\n",
       "0     16       ATL  34440\n",
       "1    208       ORD  24871\n",
       "2     80       DFW  22153\n",
       "3     79       DEN  19848\n",
       "4    154       LAX  16656"
      ]
     },
     "execution_count": 12,
     "metadata": {},
     "output_type": "execute_result"
    }
   ],
   "source": [
    "df_airportto_count_delay = df[['AirportTo', 'Delay']].groupby('AirportTo').agg('count').reset_index()\n",
    "df_airportto_count_delay = df_airportto_count_delay.sort_values(by = 'Delay', ascending = False)\n",
    "df_airportto_count_delay = df_airportto_count_delay.reset_index()\n",
    "df_airportto_count_delay.head()"
   ]
  },
  {
   "cell_type": "code",
   "execution_count": 13,
   "id": "25b2c7f4",
   "metadata": {},
   "outputs": [
    {
     "data": {
      "image/png": "[encoded data removed]",
      "text/plain": [
       "<Figure size 1440x792 with 1 Axes>"
      ]
     },
     "metadata": {
      "needs_background": "light"
     },
     "output_type": "display_data"
    }
   ],
   "source": [
    "plt.figure(figsize = (20,11))\n",
    "sns.barplot(x = 'AirportTo',y = 'Delay', color = 'blue', \n",
    "            data = df_airportto_count_delay[:25])\n",
    "plt.show()"
   ]
  },
  {
   "cell_type": "code",
   "execution_count": 14,
   "id": "4a16a123",
   "metadata": {},
   "outputs": [
    {
     "data": {
      "image/png": "[encoded data removed]",
      "text/plain": [
       "<Figure size 1440x792 with 1 Axes>"
      ]
     },
     "metadata": {
      "needs_background": "light"
     },
     "output_type": "display_data"
    }
   ],
   "source": [
    "plt.figure(figsize = (20,11))\n",
    "sns.barplot(x = 'AirportTo',y = 'Delay', color = 'blue', \n",
    "            data = df_airportto_count_delay[-25:])\n",
    "plt.show()"
   ]
  },
  {
   "cell_type": "markdown",
   "id": "f53e2ad6",
   "metadata": {},
   "source": [
    "Destination to Hartsfield-Jackson Atlanta International Airport (ATL) having the most delays and Aberdeen Regional Airport (ABR) with least delays."
   ]
  },
  {
   "cell_type": "markdown",
   "id": "340e4f3a",
   "metadata": {},
   "source": [
    "### 4. Checking wether the day of the week with the most and least delay"
   ]
  },
  {
   "cell_type": "code",
   "execution_count": 15,
   "id": "0ba2ae77",
   "metadata": {},
   "outputs": [
    {
     "data": {
      "text/html": [
       "<div>\n",
       "<style scoped>\n",
       "    .dataframe tbody tr th:only-of-type {\n",
       "        vertical-align: middle;\n",
       "    }\n",
       "\n",
       "    .dataframe tbody tr th {\n",
       "        vertical-align: top;\n",
       "    }\n",
       "\n",
       "    .dataframe thead th {\n",
       "        text-align: right;\n",
       "    }\n",
       "</style>\n",
       "<table border=\"1\" class=\"dataframe\">\n",
       "  <thead>\n",
       "    <tr style=\"text-align: right;\">\n",
       "      <th></th>\n",
       "      <th>index</th>\n",
       "      <th>DayOfWeek</th>\n",
       "      <th>Delay</th>\n",
       "    </tr>\n",
       "  </thead>\n",
       "  <tbody>\n",
       "    <tr>\n",
       "      <th>0</th>\n",
       "      <td>3</td>\n",
       "      <td>4</td>\n",
       "      <td>91445</td>\n",
       "    </tr>\n",
       "    <tr>\n",
       "      <th>1</th>\n",
       "      <td>2</td>\n",
       "      <td>3</td>\n",
       "      <td>89746</td>\n",
       "    </tr>\n",
       "    <tr>\n",
       "      <th>2</th>\n",
       "      <td>4</td>\n",
       "      <td>5</td>\n",
       "      <td>85248</td>\n",
       "    </tr>\n",
       "    <tr>\n",
       "      <th>3</th>\n",
       "      <td>0</td>\n",
       "      <td>1</td>\n",
       "      <td>72769</td>\n",
       "    </tr>\n",
       "    <tr>\n",
       "      <th>4</th>\n",
       "      <td>1</td>\n",
       "      <td>2</td>\n",
       "      <td>71340</td>\n",
       "    </tr>\n",
       "  </tbody>\n",
       "</table>\n",
       "</div>"
      ],
      "text/plain": [
       "   index  DayOfWeek  Delay\n",
       "0      3          4  91445\n",
       "1      2          3  89746\n",
       "2      4          5  85248\n",
       "3      0          1  72769\n",
       "4      1          2  71340"
      ]
     },
     "execution_count": 15,
     "metadata": {},
     "output_type": "execute_result"
    }
   ],
   "source": [
    "df_day_count_delay = df[['DayOfWeek', 'Delay']].groupby('DayOfWeek').agg('count').reset_index()\n",
    "df_day_count_delay = df_day_count_delay.sort_values(by = 'Delay', ascending = False)\n",
    "df_day_count_delay = df_day_count_delay.reset_index()\n",
    "df_day_count_delay.head()"
   ]
  },
  {
   "cell_type": "code",
   "execution_count": 16,
   "id": "8fe5dba2",
   "metadata": {},
   "outputs": [
    {
     "data": {
      "image/png": "[encoded data removed]",
      "text/plain": [
       "<Figure size 720x288 with 1 Axes>"
      ]
     },
     "metadata": {
      "needs_background": "light"
     },
     "output_type": "display_data"
    }
   ],
   "source": [
    "plt.figure(figsize = (10,4))\n",
    "sns.barplot(x = 'DayOfWeek',y = 'Delay', color = 'blue', \n",
    "            data = df_day_count_delay)\n",
    "plt.show()"
   ]
  },
  {
   "cell_type": "markdown",
   "id": "0e5d5227",
   "metadata": {},
   "source": [
    "Day 4 having the most delays and Day 6 with least delays."
   ]
  },
  {
   "cell_type": "code",
   "execution_count": 17,
   "id": "099931c7",
   "metadata": {},
   "outputs": [
    {
     "data": {
      "text/html": [
       "<div>\n",
       "<style scoped>\n",
       "    .dataframe tbody tr th:only-of-type {\n",
       "        vertical-align: middle;\n",
       "    }\n",
       "\n",
       "    .dataframe tbody tr th {\n",
       "        vertical-align: top;\n",
       "    }\n",
       "\n",
       "    .dataframe thead th {\n",
       "        text-align: right;\n",
       "    }\n",
       "</style>\n",
       "<table border=\"1\" class=\"dataframe\">\n",
       "  <thead>\n",
       "    <tr style=\"text-align: right;\">\n",
       "      <th></th>\n",
       "      <th>id</th>\n",
       "      <th>Airline</th>\n",
       "      <th>Flight</th>\n",
       "      <th>AirportFrom</th>\n",
       "      <th>AirportTo</th>\n",
       "      <th>DayOfWeek</th>\n",
       "      <th>Time</th>\n",
       "      <th>Length</th>\n",
       "      <th>Delay</th>\n",
       "    </tr>\n",
       "  </thead>\n",
       "  <tbody>\n",
       "    <tr>\n",
       "      <th>0</th>\n",
       "      <td>1</td>\n",
       "      <td>CO</td>\n",
       "      <td>269</td>\n",
       "      <td>SFO</td>\n",
       "      <td>IAH</td>\n",
       "      <td>3</td>\n",
       "      <td>15</td>\n",
       "      <td>205</td>\n",
       "      <td>1</td>\n",
       "    </tr>\n",
       "    <tr>\n",
       "      <th>1</th>\n",
       "      <td>2</td>\n",
       "      <td>US</td>\n",
       "      <td>1558</td>\n",
       "      <td>PHX</td>\n",
       "      <td>CLT</td>\n",
       "      <td>3</td>\n",
       "      <td>15</td>\n",
       "      <td>222</td>\n",
       "      <td>1</td>\n",
       "    </tr>\n",
       "    <tr>\n",
       "      <th>2</th>\n",
       "      <td>3</td>\n",
       "      <td>AA</td>\n",
       "      <td>2400</td>\n",
       "      <td>LAX</td>\n",
       "      <td>DFW</td>\n",
       "      <td>3</td>\n",
       "      <td>20</td>\n",
       "      <td>165</td>\n",
       "      <td>1</td>\n",
       "    </tr>\n",
       "    <tr>\n",
       "      <th>3</th>\n",
       "      <td>4</td>\n",
       "      <td>AA</td>\n",
       "      <td>2466</td>\n",
       "      <td>SFO</td>\n",
       "      <td>DFW</td>\n",
       "      <td>3</td>\n",
       "      <td>20</td>\n",
       "      <td>195</td>\n",
       "      <td>1</td>\n",
       "    </tr>\n",
       "    <tr>\n",
       "      <th>4</th>\n",
       "      <td>5</td>\n",
       "      <td>AS</td>\n",
       "      <td>108</td>\n",
       "      <td>ANC</td>\n",
       "      <td>SEA</td>\n",
       "      <td>3</td>\n",
       "      <td>30</td>\n",
       "      <td>202</td>\n",
       "      <td>0</td>\n",
       "    </tr>\n",
       "  </tbody>\n",
       "</table>\n",
       "</div>"
      ],
      "text/plain": [
       "   id Airline  Flight AirportFrom AirportTo  DayOfWeek  Time  Length  Delay\n",
       "0   1      CO     269         SFO       IAH          3    15     205      1\n",
       "1   2      US    1558         PHX       CLT          3    15     222      1\n",
       "2   3      AA    2400         LAX       DFW          3    20     165      1\n",
       "3   4      AA    2466         SFO       DFW          3    20     195      1\n",
       "4   5      AS     108         ANC       SEA          3    30     202      0"
      ]
     },
     "execution_count": 17,
     "metadata": {},
     "output_type": "execute_result"
    }
   ],
   "source": [
    "df.head()"
   ]
  },
  {
   "cell_type": "markdown",
   "id": "5113f9da",
   "metadata": {},
   "source": [
    "### 5. Checking wether the route with the most and least delay"
   ]
  },
  {
   "cell_type": "code",
   "execution_count": 18,
   "id": "4162e470",
   "metadata": {},
   "outputs": [],
   "source": [
    "df['Route']=df['AirportFrom']+'-'+df['AirportTo']"
   ]
  },
  {
   "cell_type": "code",
   "execution_count": 19,
   "id": "ac9a0191",
   "metadata": {},
   "outputs": [
    {
     "data": {
      "text/html": [
       "<div>\n",
       "<style scoped>\n",
       "    .dataframe tbody tr th:only-of-type {\n",
       "        vertical-align: middle;\n",
       "    }\n",
       "\n",
       "    .dataframe tbody tr th {\n",
       "        vertical-align: top;\n",
       "    }\n",
       "\n",
       "    .dataframe thead th {\n",
       "        text-align: right;\n",
       "    }\n",
       "</style>\n",
       "<table border=\"1\" class=\"dataframe\">\n",
       "  <thead>\n",
       "    <tr style=\"text-align: right;\">\n",
       "      <th></th>\n",
       "      <th>index</th>\n",
       "      <th>Route</th>\n",
       "      <th>Delay</th>\n",
       "    </tr>\n",
       "  </thead>\n",
       "  <tbody>\n",
       "    <tr>\n",
       "      <th>0</th>\n",
       "      <td>2204</td>\n",
       "      <td>LAX-SFO</td>\n",
       "      <td>1079</td>\n",
       "    </tr>\n",
       "    <tr>\n",
       "      <th>1</th>\n",
       "      <td>3744</td>\n",
       "      <td>SFO-LAX</td>\n",
       "      <td>1077</td>\n",
       "    </tr>\n",
       "    <tr>\n",
       "      <th>2</th>\n",
       "      <td>2913</td>\n",
       "      <td>OGG-HNL</td>\n",
       "      <td>982</td>\n",
       "    </tr>\n",
       "    <tr>\n",
       "      <th>3</th>\n",
       "      <td>1650</td>\n",
       "      <td>HNL-OGG</td>\n",
       "      <td>951</td>\n",
       "    </tr>\n",
       "    <tr>\n",
       "      <th>4</th>\n",
       "      <td>3571</td>\n",
       "      <td>SAN-LAX</td>\n",
       "      <td>935</td>\n",
       "    </tr>\n",
       "    <tr>\n",
       "      <th>...</th>\n",
       "      <td>...</td>\n",
       "      <td>...</td>\n",
       "      <td>...</td>\n",
       "    </tr>\n",
       "    <tr>\n",
       "      <th>4185</th>\n",
       "      <td>1269</td>\n",
       "      <td>DTW-ICT</td>\n",
       "      <td>1</td>\n",
       "    </tr>\n",
       "    <tr>\n",
       "      <th>4186</th>\n",
       "      <td>3336</td>\n",
       "      <td>PIA-MSP</td>\n",
       "      <td>1</td>\n",
       "    </tr>\n",
       "    <tr>\n",
       "      <th>4187</th>\n",
       "      <td>1265</td>\n",
       "      <td>DTW-HPN</td>\n",
       "      <td>1</td>\n",
       "    </tr>\n",
       "    <tr>\n",
       "      <th>4188</th>\n",
       "      <td>3032</td>\n",
       "      <td>ORD-GEG</td>\n",
       "      <td>1</td>\n",
       "    </tr>\n",
       "    <tr>\n",
       "      <th>4189</th>\n",
       "      <td>2819</td>\n",
       "      <td>MSP-PVD</td>\n",
       "      <td>1</td>\n",
       "    </tr>\n",
       "  </tbody>\n",
       "</table>\n",
       "<p>4190 rows × 3 columns</p>\n",
       "</div>"
      ],
      "text/plain": [
       "      index    Route  Delay\n",
       "0      2204  LAX-SFO   1079\n",
       "1      3744  SFO-LAX   1077\n",
       "2      2913  OGG-HNL    982\n",
       "3      1650  HNL-OGG    951\n",
       "4      3571  SAN-LAX    935\n",
       "...     ...      ...    ...\n",
       "4185   1269  DTW-ICT      1\n",
       "4186   3336  PIA-MSP      1\n",
       "4187   1265  DTW-HPN      1\n",
       "4188   3032  ORD-GEG      1\n",
       "4189   2819  MSP-PVD      1\n",
       "\n",
       "[4190 rows x 3 columns]"
      ]
     },
     "execution_count": 19,
     "metadata": {},
     "output_type": "execute_result"
    }
   ],
   "source": [
    "df_route_count_delay = df[['Route', 'Delay']].groupby('Route').agg('count').reset_index()\n",
    "df_route_count_delay = df_route_count_delay.sort_values(by = 'Delay', ascending = False)\n",
    "df_route_count_delay = df_route_count_delay.reset_index()\n",
    "df_route_count_delay"
   ]
  },
  {
   "cell_type": "code",
   "execution_count": 20,
   "id": "d3b43672",
   "metadata": {},
   "outputs": [
    {
     "data": {
      "image/png": "[encoded data removed]",
      "text/plain": [
       "<Figure size 720x288 with 1 Axes>"
      ]
     },
     "metadata": {
      "needs_background": "light"
     },
     "output_type": "display_data"
    }
   ],
   "source": [
    "plt.figure(figsize = (10,4))\n",
    "sns.barplot(x = 'Route',y = 'Delay', color = 'blue', \n",
    "            data = df_route_count_delay[:10])\n",
    "plt.show()"
   ]
  },
  {
   "cell_type": "code",
   "execution_count": 21,
   "id": "2d8b4451",
   "metadata": {},
   "outputs": [
    {
     "data": {
      "image/png": "[encoded data removed]",
      "text/plain": [
       "<Figure size 720x288 with 1 Axes>"
      ]
     },
     "metadata": {
      "needs_background": "light"
     },
     "output_type": "display_data"
    }
   ],
   "source": [
    "plt.figure(figsize = (10,4))\n",
    "sns.barplot(x = 'Route',y = 'Delay', color = 'blue', \n",
    "            data = df_route_count_delay[-10:])\n",
    "plt.show()"
   ]
  },
  {
   "cell_type": "markdown",
   "id": "d7a9034e",
   "metadata": {},
   "source": [
    "Los Angeles International Airport - San Francisco International Airport (LAX-SFO) having the most delays and MSP-PVD, ORD-GEG, DTW-HPN with least delays"
   ]
  },
  {
   "cell_type": "markdown",
   "id": "1de7a813",
   "metadata": {},
   "source": [
    "## Data Preprocessing"
   ]
  },
  {
   "cell_type": "code",
   "execution_count": 22,
   "id": "95dd3e9a",
   "metadata": {},
   "outputs": [],
   "source": [
    "#Delete Column\n",
    "df = df.drop(['id', 'Route', 'Time', 'Length', 'Flight'], axis=1)"
   ]
  },
  {
   "cell_type": "code",
   "execution_count": 23,
   "id": "33e11894",
   "metadata": {},
   "outputs": [
    {
     "data": {
      "text/html": [
       "<div>\n",
       "<style scoped>\n",
       "    .dataframe tbody tr th:only-of-type {\n",
       "        vertical-align: middle;\n",
       "    }\n",
       "\n",
       "    .dataframe tbody tr th {\n",
       "        vertical-align: top;\n",
       "    }\n",
       "\n",
       "    .dataframe thead th {\n",
       "        text-align: right;\n",
       "    }\n",
       "</style>\n",
       "<table border=\"1\" class=\"dataframe\">\n",
       "  <thead>\n",
       "    <tr style=\"text-align: right;\">\n",
       "      <th></th>\n",
       "      <th>Airline</th>\n",
       "      <th>AirportFrom</th>\n",
       "      <th>AirportTo</th>\n",
       "      <th>DayOfWeek</th>\n",
       "      <th>Delay</th>\n",
       "    </tr>\n",
       "  </thead>\n",
       "  <tbody>\n",
       "    <tr>\n",
       "      <th>0</th>\n",
       "      <td>CO</td>\n",
       "      <td>SFO</td>\n",
       "      <td>IAH</td>\n",
       "      <td>3</td>\n",
       "      <td>1</td>\n",
       "    </tr>\n",
       "    <tr>\n",
       "      <th>1</th>\n",
       "      <td>US</td>\n",
       "      <td>PHX</td>\n",
       "      <td>CLT</td>\n",
       "      <td>3</td>\n",
       "      <td>1</td>\n",
       "    </tr>\n",
       "    <tr>\n",
       "      <th>2</th>\n",
       "      <td>AA</td>\n",
       "      <td>LAX</td>\n",
       "      <td>DFW</td>\n",
       "      <td>3</td>\n",
       "      <td>1</td>\n",
       "    </tr>\n",
       "    <tr>\n",
       "      <th>3</th>\n",
       "      <td>AA</td>\n",
       "      <td>SFO</td>\n",
       "      <td>DFW</td>\n",
       "      <td>3</td>\n",
       "      <td>1</td>\n",
       "    </tr>\n",
       "    <tr>\n",
       "      <th>4</th>\n",
       "      <td>AS</td>\n",
       "      <td>ANC</td>\n",
       "      <td>SEA</td>\n",
       "      <td>3</td>\n",
       "      <td>0</td>\n",
       "    </tr>\n",
       "  </tbody>\n",
       "</table>\n",
       "</div>"
      ],
      "text/plain": [
       "  Airline AirportFrom AirportTo  DayOfWeek  Delay\n",
       "0      CO         SFO       IAH          3      1\n",
       "1      US         PHX       CLT          3      1\n",
       "2      AA         LAX       DFW          3      1\n",
       "3      AA         SFO       DFW          3      1\n",
       "4      AS         ANC       SEA          3      0"
      ]
     },
     "execution_count": 23,
     "metadata": {},
     "output_type": "execute_result"
    }
   ],
   "source": [
    "df.head()"
   ]
  },
  {
   "cell_type": "code",
   "execution_count": 24,
   "id": "4cfe2918",
   "metadata": {},
   "outputs": [],
   "source": [
    "#Split data into X and y\n",
    "X, y = df.drop(['Delay'], axis=1), df['Delay']"
   ]
  },
  {
   "cell_type": "code",
   "execution_count": 25,
   "id": "a5d17fbc",
   "metadata": {},
   "outputs": [
    {
     "data": {
      "text/html": [
       "<div>\n",
       "<style scoped>\n",
       "    .dataframe tbody tr th:only-of-type {\n",
       "        vertical-align: middle;\n",
       "    }\n",
       "\n",
       "    .dataframe tbody tr th {\n",
       "        vertical-align: top;\n",
       "    }\n",
       "\n",
       "    .dataframe thead th {\n",
       "        text-align: right;\n",
       "    }\n",
       "</style>\n",
       "<table border=\"1\" class=\"dataframe\">\n",
       "  <thead>\n",
       "    <tr style=\"text-align: right;\">\n",
       "      <th></th>\n",
       "      <th>Airline</th>\n",
       "      <th>AirportFrom</th>\n",
       "      <th>AirportTo</th>\n",
       "      <th>DayOfWeek</th>\n",
       "    </tr>\n",
       "  </thead>\n",
       "  <tbody>\n",
       "    <tr>\n",
       "      <th>0</th>\n",
       "      <td>CO</td>\n",
       "      <td>SFO</td>\n",
       "      <td>IAH</td>\n",
       "      <td>3</td>\n",
       "    </tr>\n",
       "    <tr>\n",
       "      <th>1</th>\n",
       "      <td>US</td>\n",
       "      <td>PHX</td>\n",
       "      <td>CLT</td>\n",
       "      <td>3</td>\n",
       "    </tr>\n",
       "    <tr>\n",
       "      <th>2</th>\n",
       "      <td>AA</td>\n",
       "      <td>LAX</td>\n",
       "      <td>DFW</td>\n",
       "      <td>3</td>\n",
       "    </tr>\n",
       "    <tr>\n",
       "      <th>3</th>\n",
       "      <td>AA</td>\n",
       "      <td>SFO</td>\n",
       "      <td>DFW</td>\n",
       "      <td>3</td>\n",
       "    </tr>\n",
       "    <tr>\n",
       "      <th>4</th>\n",
       "      <td>AS</td>\n",
       "      <td>ANC</td>\n",
       "      <td>SEA</td>\n",
       "      <td>3</td>\n",
       "    </tr>\n",
       "    <tr>\n",
       "      <th>...</th>\n",
       "      <td>...</td>\n",
       "      <td>...</td>\n",
       "      <td>...</td>\n",
       "      <td>...</td>\n",
       "    </tr>\n",
       "    <tr>\n",
       "      <th>539378</th>\n",
       "      <td>CO</td>\n",
       "      <td>OGG</td>\n",
       "      <td>SNA</td>\n",
       "      <td>5</td>\n",
       "    </tr>\n",
       "    <tr>\n",
       "      <th>539379</th>\n",
       "      <td>FL</td>\n",
       "      <td>SEA</td>\n",
       "      <td>ATL</td>\n",
       "      <td>5</td>\n",
       "    </tr>\n",
       "    <tr>\n",
       "      <th>539380</th>\n",
       "      <td>FL</td>\n",
       "      <td>SFO</td>\n",
       "      <td>MKE</td>\n",
       "      <td>5</td>\n",
       "    </tr>\n",
       "    <tr>\n",
       "      <th>539381</th>\n",
       "      <td>UA</td>\n",
       "      <td>HNL</td>\n",
       "      <td>SFO</td>\n",
       "      <td>5</td>\n",
       "    </tr>\n",
       "    <tr>\n",
       "      <th>539382</th>\n",
       "      <td>US</td>\n",
       "      <td>LAX</td>\n",
       "      <td>PHL</td>\n",
       "      <td>5</td>\n",
       "    </tr>\n",
       "  </tbody>\n",
       "</table>\n",
       "<p>539383 rows × 4 columns</p>\n",
       "</div>"
      ],
      "text/plain": [
       "       Airline AirportFrom AirportTo  DayOfWeek\n",
       "0           CO         SFO       IAH          3\n",
       "1           US         PHX       CLT          3\n",
       "2           AA         LAX       DFW          3\n",
       "3           AA         SFO       DFW          3\n",
       "4           AS         ANC       SEA          3\n",
       "...        ...         ...       ...        ...\n",
       "539378      CO         OGG       SNA          5\n",
       "539379      FL         SEA       ATL          5\n",
       "539380      FL         SFO       MKE          5\n",
       "539381      UA         HNL       SFO          5\n",
       "539382      US         LAX       PHL          5\n",
       "\n",
       "[539383 rows x 4 columns]"
      ]
     },
     "execution_count": 25,
     "metadata": {},
     "output_type": "execute_result"
    }
   ],
   "source": [
    "X"
   ]
  },
  {
   "cell_type": "code",
   "execution_count": 26,
   "id": "6e365e6f",
   "metadata": {},
   "outputs": [
    {
     "data": {
      "text/plain": [
       "0         1\n",
       "1         1\n",
       "2         1\n",
       "3         1\n",
       "4         0\n",
       "         ..\n",
       "539378    0\n",
       "539379    0\n",
       "539380    0\n",
       "539381    1\n",
       "539382    1\n",
       "Name: Delay, Length: 539383, dtype: int64"
      ]
     },
     "execution_count": 26,
     "metadata": {},
     "output_type": "execute_result"
    }
   ],
   "source": [
    "y"
   ]
  },
  {
   "cell_type": "code",
   "execution_count": 27,
   "id": "2768c505",
   "metadata": {},
   "outputs": [],
   "source": [
    "X = pd.get_dummies(X, drop_first = True) "
   ]
  },
  {
   "cell_type": "code",
   "execution_count": 28,
   "id": "c7a0a090",
   "metadata": {},
   "outputs": [
    {
     "data": {
      "text/html": [
       "<div>\n",
       "<style scoped>\n",
       "    .dataframe tbody tr th:only-of-type {\n",
       "        vertical-align: middle;\n",
       "    }\n",
       "\n",
       "    .dataframe tbody tr th {\n",
       "        vertical-align: top;\n",
       "    }\n",
       "\n",
       "    .dataframe thead th {\n",
       "        text-align: right;\n",
       "    }\n",
       "</style>\n",
       "<table border=\"1\" class=\"dataframe\">\n",
       "  <thead>\n",
       "    <tr style=\"text-align: right;\">\n",
       "      <th></th>\n",
       "      <th>DayOfWeek</th>\n",
       "      <th>Airline_AA</th>\n",
       "      <th>Airline_AS</th>\n",
       "      <th>Airline_B6</th>\n",
       "      <th>Airline_CO</th>\n",
       "      <th>Airline_DL</th>\n",
       "      <th>Airline_EV</th>\n",
       "      <th>Airline_F9</th>\n",
       "      <th>Airline_FL</th>\n",
       "      <th>Airline_HA</th>\n",
       "      <th>...</th>\n",
       "      <th>AirportTo_TXK</th>\n",
       "      <th>AirportTo_TYR</th>\n",
       "      <th>AirportTo_TYS</th>\n",
       "      <th>AirportTo_UTM</th>\n",
       "      <th>AirportTo_VLD</th>\n",
       "      <th>AirportTo_VPS</th>\n",
       "      <th>AirportTo_WRG</th>\n",
       "      <th>AirportTo_XNA</th>\n",
       "      <th>AirportTo_YAK</th>\n",
       "      <th>AirportTo_YUM</th>\n",
       "    </tr>\n",
       "  </thead>\n",
       "  <tbody>\n",
       "    <tr>\n",
       "      <th>0</th>\n",
       "      <td>3</td>\n",
       "      <td>0</td>\n",
       "      <td>0</td>\n",
       "      <td>0</td>\n",
       "      <td>1</td>\n",
       "      <td>0</td>\n",
       "      <td>0</td>\n",
       "      <td>0</td>\n",
       "      <td>0</td>\n",
       "      <td>0</td>\n",
       "      <td>...</td>\n",
       "      <td>0</td>\n",
       "      <td>0</td>\n",
       "      <td>0</td>\n",
       "      <td>0</td>\n",
       "      <td>0</td>\n",
       "      <td>0</td>\n",
       "      <td>0</td>\n",
       "      <td>0</td>\n",
       "      <td>0</td>\n",
       "      <td>0</td>\n",
       "    </tr>\n",
       "    <tr>\n",
       "      <th>1</th>\n",
       "      <td>3</td>\n",
       "      <td>0</td>\n",
       "      <td>0</td>\n",
       "      <td>0</td>\n",
       "      <td>0</td>\n",
       "      <td>0</td>\n",
       "      <td>0</td>\n",
       "      <td>0</td>\n",
       "      <td>0</td>\n",
       "      <td>0</td>\n",
       "      <td>...</td>\n",
       "      <td>0</td>\n",
       "      <td>0</td>\n",
       "      <td>0</td>\n",
       "      <td>0</td>\n",
       "      <td>0</td>\n",
       "      <td>0</td>\n",
       "      <td>0</td>\n",
       "      <td>0</td>\n",
       "      <td>0</td>\n",
       "      <td>0</td>\n",
       "    </tr>\n",
       "    <tr>\n",
       "      <th>2</th>\n",
       "      <td>3</td>\n",
       "      <td>1</td>\n",
       "      <td>0</td>\n",
       "      <td>0</td>\n",
       "      <td>0</td>\n",
       "      <td>0</td>\n",
       "      <td>0</td>\n",
       "      <td>0</td>\n",
       "      <td>0</td>\n",
       "      <td>0</td>\n",
       "      <td>...</td>\n",
       "      <td>0</td>\n",
       "      <td>0</td>\n",
       "      <td>0</td>\n",
       "      <td>0</td>\n",
       "      <td>0</td>\n",
       "      <td>0</td>\n",
       "      <td>0</td>\n",
       "      <td>0</td>\n",
       "      <td>0</td>\n",
       "      <td>0</td>\n",
       "    </tr>\n",
       "    <tr>\n",
       "      <th>3</th>\n",
       "      <td>3</td>\n",
       "      <td>1</td>\n",
       "      <td>0</td>\n",
       "      <td>0</td>\n",
       "      <td>0</td>\n",
       "      <td>0</td>\n",
       "      <td>0</td>\n",
       "      <td>0</td>\n",
       "      <td>0</td>\n",
       "      <td>0</td>\n",
       "      <td>...</td>\n",
       "      <td>0</td>\n",
       "      <td>0</td>\n",
       "      <td>0</td>\n",
       "      <td>0</td>\n",
       "      <td>0</td>\n",
       "      <td>0</td>\n",
       "      <td>0</td>\n",
       "      <td>0</td>\n",
       "      <td>0</td>\n",
       "      <td>0</td>\n",
       "    </tr>\n",
       "    <tr>\n",
       "      <th>4</th>\n",
       "      <td>3</td>\n",
       "      <td>0</td>\n",
       "      <td>1</td>\n",
       "      <td>0</td>\n",
       "      <td>0</td>\n",
       "      <td>0</td>\n",
       "      <td>0</td>\n",
       "      <td>0</td>\n",
       "      <td>0</td>\n",
       "      <td>0</td>\n",
       "      <td>...</td>\n",
       "      <td>0</td>\n",
       "      <td>0</td>\n",
       "      <td>0</td>\n",
       "      <td>0</td>\n",
       "      <td>0</td>\n",
       "      <td>0</td>\n",
       "      <td>0</td>\n",
       "      <td>0</td>\n",
       "      <td>0</td>\n",
       "      <td>0</td>\n",
       "    </tr>\n",
       "  </tbody>\n",
       "</table>\n",
       "<p>5 rows × 602 columns</p>\n",
       "</div>"
      ],
      "text/plain": [
       "   DayOfWeek  Airline_AA  Airline_AS  Airline_B6  Airline_CO  Airline_DL  \\\n",
       "0          3           0           0           0           1           0   \n",
       "1          3           0           0           0           0           0   \n",
       "2          3           1           0           0           0           0   \n",
       "3          3           1           0           0           0           0   \n",
       "4          3           0           1           0           0           0   \n",
       "\n",
       "   Airline_EV  Airline_F9  Airline_FL  Airline_HA  ...  AirportTo_TXK  \\\n",
       "0           0           0           0           0  ...              0   \n",
       "1           0           0           0           0  ...              0   \n",
       "2           0           0           0           0  ...              0   \n",
       "3           0           0           0           0  ...              0   \n",
       "4           0           0           0           0  ...              0   \n",
       "\n",
       "   AirportTo_TYR  AirportTo_TYS  AirportTo_UTM  AirportTo_VLD  AirportTo_VPS  \\\n",
       "0              0              0              0              0              0   \n",
       "1              0              0              0              0              0   \n",
       "2              0              0              0              0              0   \n",
       "3              0              0              0              0              0   \n",
       "4              0              0              0              0              0   \n",
       "\n",
       "   AirportTo_WRG  AirportTo_XNA  AirportTo_YAK  AirportTo_YUM  \n",
       "0              0              0              0              0  \n",
       "1              0              0              0              0  \n",
       "2              0              0              0              0  \n",
       "3              0              0              0              0  \n",
       "4              0              0              0              0  \n",
       "\n",
       "[5 rows x 602 columns]"
      ]
     },
     "execution_count": 28,
     "metadata": {},
     "output_type": "execute_result"
    }
   ],
   "source": [
    "X.head()"
   ]
  },
  {
   "cell_type": "code",
   "execution_count": 29,
   "id": "83228374",
   "metadata": {},
   "outputs": [
    {
     "data": {
      "text/plain": [
       "array([[0.33333333, 0.        , 0.        , ..., 0.        , 0.        ,\n",
       "        0.        ],\n",
       "       [0.33333333, 0.        , 0.        , ..., 0.        , 0.        ,\n",
       "        0.        ],\n",
       "       [0.33333333, 1.        , 0.        , ..., 0.        , 0.        ,\n",
       "        0.        ],\n",
       "       ...,\n",
       "       [0.66666667, 0.        , 0.        , ..., 0.        , 0.        ,\n",
       "        0.        ],\n",
       "       [0.66666667, 0.        , 0.        , ..., 0.        , 0.        ,\n",
       "        0.        ],\n",
       "       [0.66666667, 0.        , 0.        , ..., 0.        , 0.        ,\n",
       "        0.        ]])"
      ]
     },
     "execution_count": 29,
     "metadata": {},
     "output_type": "execute_result"
    }
   ],
   "source": [
    "#Scalling data\n",
    "scaler = MinMaxScaler()\n",
    "X = scaler.fit_transform(X)\n",
    "X"
   ]
  },
  {
   "cell_type": "code",
   "execution_count": 30,
   "id": "77e436b8",
   "metadata": {},
   "outputs": [
    {
     "data": {
      "text/plain": [
       "(539383, 602)"
      ]
     },
     "execution_count": 30,
     "metadata": {},
     "output_type": "execute_result"
    }
   ],
   "source": [
    "X.shape"
   ]
  },
  {
   "cell_type": "code",
   "execution_count": 31,
   "id": "51fdc1ee",
   "metadata": {},
   "outputs": [],
   "source": [
    "#Split data 80% to train and 20% to test\n",
    "X_train, X_test, Y_train, Y_test = train_test_split(X,y,train_size=0.8, random_state=42)"
   ]
  },
  {
   "cell_type": "markdown",
   "id": "2679b7c8",
   "metadata": {},
   "source": [
    "## Modeling"
   ]
  },
  {
   "cell_type": "markdown",
   "id": "ae8efeae",
   "metadata": {},
   "source": [
    "### 1. Neural Network"
   ]
  },
  {
   "cell_type": "code",
   "execution_count": 32,
   "id": "35109434",
   "metadata": {},
   "outputs": [],
   "source": [
    "model = tf.keras.Sequential([\n",
    "    tf.keras.layers.Dense(128, input_shape=[602], activation='relu'),\n",
    "    tf.keras.layers.Dense(64, activation='relu'),\n",
    "    tf.keras.layers.Dense(32, activation='relu'),\n",
    "    tf.keras.layers.Dense(16, activation='relu'),\n",
    "    tf.keras.layers.Dense(8, activation='relu'),\n",
    "    tf.keras.layers.Dense(1, activation='sigmoid')\n",
    "])"
   ]
  },
  {
   "cell_type": "code",
   "execution_count": 33,
   "id": "c5ca72f2",
   "metadata": {},
   "outputs": [
    {
     "name": "stdout",
     "output_type": "stream",
     "text": [
      "Model: \"sequential\"\n",
      "_________________________________________________________________\n",
      " Layer (type)                Output Shape              Param #   \n",
      "=================================================================\n",
      " dense (Dense)               (None, 128)               77184     \n",
      "                                                                 \n",
      " dense_1 (Dense)             (None, 64)                8256      \n",
      "                                                                 \n",
      " dense_2 (Dense)             (None, 32)                2080      \n",
      "                                                                 \n",
      " dense_3 (Dense)             (None, 16)                528       \n",
      "                                                                 \n",
      " dense_4 (Dense)             (None, 8)                 136       \n",
      "                                                                 \n",
      " dense_5 (Dense)             (None, 1)                 9         \n",
      "                                                                 \n",
      "=================================================================\n",
      "Total params: 88,193\n",
      "Trainable params: 88,193\n",
      "Non-trainable params: 0\n",
      "_________________________________________________________________\n"
     ]
    }
   ],
   "source": [
    "model.summary()"
   ]
  },
  {
   "cell_type": "code",
   "execution_count": 34,
   "id": "a2c3e5fd",
   "metadata": {},
   "outputs": [
    {
     "name": "stdout",
     "output_type": "stream",
     "text": [
      "Epoch 1/50\n",
      "13485/13485 [==============================] - 30s 2ms/step - loss: 0.6391 - accuracy: 0.6392\n",
      "Epoch 2/50\n",
      "13485/13485 [==============================] - 28s 2ms/step - loss: 0.6321 - accuracy: 0.6462\n",
      "Epoch 3/50\n",
      "13485/13485 [==============================] - 28s 2ms/step - loss: 0.6291 - accuracy: 0.6490\n",
      "Epoch 4/50\n",
      "13485/13485 [==============================] - 28s 2ms/step - loss: 0.6266 - accuracy: 0.6513\n",
      "Epoch 5/50\n",
      "13485/13485 [==============================] - 29s 2ms/step - loss: 0.6249 - accuracy: 0.6526\n",
      "Epoch 6/50\n",
      "13485/13485 [==============================] - 27s 2ms/step - loss: 0.6235 - accuracy: 0.6543\n",
      "Epoch 7/50\n",
      "13485/13485 [==============================] - 25s 2ms/step - loss: 0.6221 - accuracy: 0.6556\n",
      "Epoch 8/50\n",
      "13485/13485 [==============================] - 26s 2ms/step - loss: 0.6210 - accuracy: 0.6570\n",
      "Epoch 9/50\n",
      "13485/13485 [==============================] - 26s 2ms/step - loss: 0.6199 - accuracy: 0.6575\n",
      "Epoch 10/50\n",
      "13485/13485 [==============================] - 26s 2ms/step - loss: 0.6189 - accuracy: 0.6590\n",
      "Epoch 11/50\n",
      "13485/13485 [==============================] - 26s 2ms/step - loss: 0.6181 - accuracy: 0.6597\n",
      "Epoch 12/50\n",
      "13485/13485 [==============================] - 25s 2ms/step - loss: 0.6172 - accuracy: 0.6606\n",
      "Epoch 13/50\n",
      "13485/13485 [==============================] - 26s 2ms/step - loss: 0.6165 - accuracy: 0.6610\n",
      "Epoch 14/50\n",
      "13485/13485 [==============================] - 26s 2ms/step - loss: 0.6158 - accuracy: 0.6616\n",
      "Epoch 15/50\n",
      "13485/13485 [==============================] - 27s 2ms/step - loss: 0.6151 - accuracy: 0.6618\n",
      "Epoch 16/50\n",
      "13485/13485 [==============================] - 26s 2ms/step - loss: 0.6145 - accuracy: 0.6621\n",
      "Epoch 17/50\n",
      "13485/13485 [==============================] - 26s 2ms/step - loss: 0.6138 - accuracy: 0.6632\n",
      "Epoch 18/50\n",
      "13485/13485 [==============================] - 26s 2ms/step - loss: 0.6133 - accuracy: 0.6632\n",
      "Epoch 19/50\n",
      "13485/13485 [==============================] - 27s 2ms/step - loss: 0.6128 - accuracy: 0.6638\n",
      "Epoch 20/50\n",
      "13485/13485 [==============================] - 26s 2ms/step - loss: 0.6122 - accuracy: 0.6645\n",
      "Epoch 21/50\n",
      "13485/13485 [==============================] - 27s 2ms/step - loss: 0.6117 - accuracy: 0.6650\n",
      "Epoch 22/50\n",
      "13485/13485 [==============================] - 28s 2ms/step - loss: 0.6113 - accuracy: 0.6649\n",
      "Epoch 23/50\n",
      "13485/13485 [==============================] - 27s 2ms/step - loss: 0.6106 - accuracy: 0.6654\n",
      "Epoch 24/50\n",
      "13485/13485 [==============================] - 28s 2ms/step - loss: 0.6103 - accuracy: 0.6657\n",
      "Epoch 25/50\n",
      "13485/13485 [==============================] - 25s 2ms/step - loss: 0.6099 - accuracy: 0.6661\n",
      "Epoch 26/50\n",
      "13485/13485 [==============================] - 26s 2ms/step - loss: 0.6095 - accuracy: 0.6664\n",
      "Epoch 27/50\n",
      "13485/13485 [==============================] - 27s 2ms/step - loss: 0.6092 - accuracy: 0.6669\n",
      "Epoch 28/50\n",
      "13485/13485 [==============================] - 27s 2ms/step - loss: 0.6088 - accuracy: 0.6667\n",
      "Epoch 29/50\n",
      "13485/13485 [==============================] - 27s 2ms/step - loss: 0.6084 - accuracy: 0.6669\n",
      "Epoch 30/50\n",
      "13485/13485 [==============================] - 27s 2ms/step - loss: 0.6081 - accuracy: 0.6674\n",
      "Epoch 31/50\n",
      "13485/13485 [==============================] - 27s 2ms/step - loss: 0.6078 - accuracy: 0.6673\n",
      "Epoch 32/50\n",
      "13485/13485 [==============================] - 27s 2ms/step - loss: 0.6075 - accuracy: 0.6675\n",
      "Epoch 33/50\n",
      "13485/13485 [==============================] - 26s 2ms/step - loss: 0.6071 - accuracy: 0.6675\n",
      "Epoch 34/50\n",
      "13485/13485 [==============================] - 26s 2ms/step - loss: 0.6068 - accuracy: 0.6680\n",
      "Epoch 35/50\n",
      "13485/13485 [==============================] - 27s 2ms/step - loss: 0.6066 - accuracy: 0.6681\n",
      "Epoch 36/50\n",
      "13485/13485 [==============================] - 28s 2ms/step - loss: 0.6063 - accuracy: 0.6682\n",
      "Epoch 37/50\n",
      "13485/13485 [==============================] - 27s 2ms/step - loss: 0.6060 - accuracy: 0.6689\n",
      "Epoch 38/50\n",
      "13485/13485 [==============================] - 28s 2ms/step - loss: 0.6057 - accuracy: 0.6687\n",
      "Epoch 39/50\n",
      "13485/13485 [==============================] - 27s 2ms/step - loss: 0.6057 - accuracy: 0.6692\n",
      "Epoch 40/50\n",
      "13485/13485 [==============================] - 26s 2ms/step - loss: 0.6054 - accuracy: 0.6691\n",
      "Epoch 41/50\n",
      "13485/13485 [==============================] - 27s 2ms/step - loss: 0.6052 - accuracy: 0.6691\n",
      "Epoch 42/50\n",
      "13485/13485 [==============================] - 27s 2ms/step - loss: 0.6050 - accuracy: 0.6690\n",
      "Epoch 43/50\n",
      "13485/13485 [==============================] - 28s 2ms/step - loss: 0.6047 - accuracy: 0.6691\n",
      "Epoch 44/50\n",
      "13485/13485 [==============================] - 26s 2ms/step - loss: 0.6046 - accuracy: 0.6691\n",
      "Epoch 45/50\n",
      "13485/13485 [==============================] - 26s 2ms/step - loss: 0.6043 - accuracy: 0.6695\n",
      "Epoch 46/50\n",
      "13485/13485 [==============================] - 26s 2ms/step - loss: 0.6042 - accuracy: 0.6695\n",
      "Epoch 47/50\n",
      "13485/13485 [==============================] - 25s 2ms/step - loss: 0.6039 - accuracy: 0.6702\n",
      "Epoch 48/50\n",
      "13485/13485 [==============================] - 26s 2ms/step - loss: 0.6038 - accuracy: 0.6700\n",
      "Epoch 49/50\n",
      "13485/13485 [==============================] - 26s 2ms/step - loss: 0.6034 - accuracy: 0.6701\n",
      "Epoch 50/50\n",
      "13485/13485 [==============================] - 26s 2ms/step - loss: 0.6032 - accuracy: 0.6700\n"
     ]
    }
   ],
   "source": [
    "#Train the model\n",
    "model.compile(optimizer=tf.keras.optimizers.Adam(), loss=tf.keras.losses.BinaryCrossentropy(), metrics=['accuracy'])\n",
    "history = model.fit(X_train, Y_train, epochs = 50, batch_size = 32)"
   ]
  }
 ],
 "metadata": {
  "kernelspec": {
   "display_name": "Python 3 (ipykernel)",
   "language": "python",
   "name": "python3"
  },
  "language_info": {
   "codemirror_mode": {
    "name": "ipython",
    "version": 3
   },
   "file_extension": ".py",
   "mimetype": "text/x-python",
   "name": "python",
   "nbconvert_exporter": "python",
   "pygments_lexer": "ipython3",
   "version": "3.9.12"
  }
 },
 "nbformat": 4,
 "nbformat_minor": 5
}
